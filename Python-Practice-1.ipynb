{
 "cells": [
  {
   "cell_type": "markdown",
   "metadata": {},
   "source": [
    "#Problem 1: Given two binary trees, imagine that when you overlay one on top of the other,\n",
    "#some nodes of the two trees are overlapped while the others are not.Merge them into a new binary tree. \n",
    "#The merge rule is that if two nodes overlap, then sum node values up as the new value of the merged node. \n",
    "#Otherwise, the NOT null node will be used as the node of new tree."
   ]
  },
  {
   "cell_type": "code",
   "execution_count": 2,
   "metadata": {},
   "outputs": [],
   "source": [
    "#Class definition of a Node\n",
    "class node: \n",
    "    def __init__(self, value): \n",
    "        self.value = value  \n",
    "        self.left = self.right = None"
   ]
  },
  {
   "cell_type": "code",
   "execution_count": 3,
   "metadata": {},
   "outputs": [],
   "source": [
    "#Function Merges two Binary Tree-If two nodes overlap, then sum node values up as the new value,else the NOT null node will be used as the node.\n",
    "def MergeBinaryTrees(node1, node2): \n",
    "    if (not node1):  \n",
    "        return node2  \n",
    "    if (not node2): \n",
    "        return node1  \n",
    "    node1.value += node2.value  \n",
    "    node1.left = MergeBinaryTrees(node1.left, node2.left)  \n",
    "    node1.right = MergeBinaryTrees(node1.right, node2.right)  \n",
    "    return node1 "
   ]
  },
  {
   "cell_type": "code",
   "execution_count": 18,
   "metadata": {},
   "outputs": [],
   "source": [
    "#Function Prints the binary Tree\n",
    "def displayTree(node): \n",
    "    if (not node): \n",
    "        return \n",
    "    displayTree(node.left)  \n",
    "    print(node.value, end = \" \")   \n",
    "    displayTree(node.right) "
   ]
  },
  {
   "cell_type": "code",
   "execution_count": 5,
   "metadata": {},
   "outputs": [],
   "source": [
    "# Binary Tree 1\n",
    "root1 = node(1)  \n",
    "root1.left = node(3)  \n",
    "root1.right = node(2)  \n",
    "root1.left.left = node(5)  \n",
    "\n",
    "# Binary Tree 2\n",
    "root2 = node(2)  \n",
    "root2.left = node(1)  \n",
    "root2.right = node(3)  \n",
    "root2.left.right = node(4)  \n",
    "root2.right.right = node(7) "
   ]
  },
  {
   "cell_type": "code",
   "execution_count": 6,
   "metadata": {},
   "outputs": [
    {
     "name": "stdout",
     "output_type": "stream",
     "text": [
      "Merged Binary Tree:\n",
      "5 4 4 3 5 7 "
     ]
    }
   ],
   "source": [
    "#Merged Binary Tree\n",
    "root3 = MergeBinaryTrees(root1, root2)  \n",
    "print(\"Merged Binary Tree:\")  \n",
    "displayTree(root3) "
   ]
  },
  {
   "cell_type": "markdown",
   "metadata": {},
   "source": [
    "#Problem 2. Write a function to find the longest common prefix string amongst an array of strings.\n",
    "#Assume the input array exclusively consists of non zero length strings containing alphanumeric characters."
   ]
  },
  {
   "cell_type": "code",
   "execution_count": 8,
   "metadata": {},
   "outputs": [
    {
     "name": "stdout",
     "output_type": "stream",
     "text": [
      "miss\n"
     ]
    }
   ],
   "source": [
    "str = [\"miss\",\"mississippi\",\"missy\"] \n",
    "n = len(str) \n",
    "\n",
    "# Find longest Common Prefix between 2 strings\n",
    "def longestCommonPrefix(str1, str2): \n",
    "    n1 = len(str1) \n",
    "    n2 = len(str2)   \n",
    "    prefix = \"\" \n",
    "    j = 0\n",
    "    i = 0\n",
    "    while(i <= n1 - 1 and j <= n2 - 1): \n",
    "        if (str1[i] != str2[j]): \n",
    "            break\n",
    "        prefix += (str1[i])     \n",
    "        i += 1\n",
    "        j += 1\n",
    "    return (prefix) \n",
    "\n",
    "\n",
    "# sorts the set of strings so we can compare only shortest and longest string to arrive at answer.\n",
    "str.sort(reverse = False) \n",
    "  \n",
    "# Find the longest common prefix of the first and the last string of sorted strings\n",
    "print(longestCommonPrefix(str[0], str[n - 1]))  "
   ]
  },
  {
   "cell_type": "markdown",
   "metadata": {},
   "source": [
    "#Problem 3. Say you have an array for which the i th element is the price of a given stock on day i . If you\n",
    "#were only permitted to complete at most one transaction (ie, buy one and sell one share of the stock),\n",
    "#design an algorithm to find the maximum profit."
   ]
  },
  {
   "cell_type": "code",
   "execution_count": 10,
   "metadata": {},
   "outputs": [
    {
     "name": "stdout",
     "output_type": "stream",
     "text": [
      "Buy at  7 ,Sell at  6 ,Profit is  0 .\n",
      "Buy at  6 ,Sell at  4 ,Profit is  0 .\n",
      "Buy at  4 ,Sell at  3 ,Profit is  0 .\n",
      "Buy at  3 ,Sell at  1 ,Profit is  0 .\n",
      "Maximum profit is  0\n"
     ]
    }
   ],
   "source": [
    "stockPrice= [7,6,4,3,1] \n",
    "n=len(stockPrice)\n",
    "\n",
    "#Initialize profit array with 0's\n",
    "profit=[0]*n\n",
    "for j in range(1,n):\n",
    "    #First (1->j) buy the stock at min price\n",
    "    bestBuy =min(stockPrice[0:j])\n",
    "    #Later ( j->n )sell the stock at max price\n",
    "    bestSell=max(stockPrice[j:n]) \n",
    "    \n",
    "    #calculate profit as selling price -cost price\n",
    "    p=bestSell-bestBuy\n",
    "    if(p>profit[j-1]):\n",
    "     profit[j-1]=p\n",
    "    print(\"Buy at \",bestBuy,\",Sell at \",bestSell,\",Profit is \",profit[j-1],\".\")\n",
    "    \n",
    "#Find max profit    \n",
    "maximum_profit=max(profit)\n",
    "print(\"Maximum profit is \",maximum_profit)"
   ]
  }
 ],
 "metadata": {
  "kernelspec": {
   "display_name": "Python 3",
   "language": "python",
   "name": "python3"
  },
  "language_info": {
   "codemirror_mode": {
    "name": "ipython",
    "version": 3
   },
   "file_extension": ".py",
   "mimetype": "text/x-python",
   "name": "python",
   "nbconvert_exporter": "python",
   "pygments_lexer": "ipython3",
   "version": "3.7.1"
  }
 },
 "nbformat": 4,
 "nbformat_minor": 2
}
